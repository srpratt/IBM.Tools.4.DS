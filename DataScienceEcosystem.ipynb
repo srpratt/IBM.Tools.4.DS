{
 "cells": [
  {
   "cell_type": "markdown",
   "id": "b8511a7d",
   "metadata": {},
   "source": [
    "# Data Science Tools and Ecosystem"
   ]
  },
  {
   "cell_type": "markdown",
   "id": "ae80fad5",
   "metadata": {},
   "source": [
    "## In this notebook, Data Science Tools and Ecosystem are summarized."
   ]
  },
  {
   "cell_type": "markdown",
   "id": "142cddf4",
   "metadata": {},
   "source": [
    "### Objectives:\n",
    "\n",
    "- List some languages that Data Scientists use.\n",
    "- List some libraries commonly used by Data Scientists.\n",
    "- List some development environment open source tools used in data science."
   ]
  },
  {
   "cell_type": "markdown",
   "id": "f631aa18",
   "metadata": {},
   "source": [
    "### Some of the popular languages that Data Scientists use are:\n",
    "1. Python\n",
    "1. R\n",
    "1. SQL\n",
    "1. C++"
   ]
  },
  {
   "cell_type": "markdown",
   "id": "0564550f",
   "metadata": {},
   "source": [
    "### Some of the commonly used libraries used by Data Scientists include:\n",
    "1. pandas\n",
    "1. numpy\n",
    "1. caret\n",
    "1. ggplot\n",
    "1. dplyr"
   ]
  },
  {
   "cell_type": "markdown",
   "id": "a9cee3d0",
   "metadata": {},
   "source": [
    "| Data Science Tools |\n",
    "| :------------------ |\n",
    "| Jupyter Notebooks |\n",
    "| RStudio |\n",
    "| Anaconda |\n",
    "| Visual Studio Code |\n",
    "\n"
   ]
  },
  {
   "cell_type": "markdown",
   "id": "bc2db903",
   "metadata": {},
   "source": [
    "### Below are a few examples of evaluating arithmetic expressions in Python"
   ]
  },
  {
   "cell_type": "code",
   "execution_count": 9,
   "id": "bcd2de32",
   "metadata": {},
   "outputs": [
    {
     "data": {
      "text/plain": [
       "17"
      ]
     },
     "execution_count": 9,
     "metadata": {},
     "output_type": "execute_result"
    }
   ],
   "source": [
    "(3*4)+5"
   ]
  },
  {
   "cell_type": "code",
   "execution_count": 10,
   "id": "01ef68f7",
   "metadata": {},
   "outputs": [
    {
     "data": {
      "text/plain": [
       "3.3333333333333335"
      ]
     },
     "execution_count": 10,
     "metadata": {},
     "output_type": "execute_result"
    }
   ],
   "source": [
    "\n",
    "#  This will convert 200 minutes to hours by diving by 60\n",
    "\n",
    "200/60"
   ]
  },
  {
   "cell_type": "markdown",
   "id": "dee9db0d",
   "metadata": {},
   "source": [
    "## Author\n",
    "Samuel Pratt"
   ]
  },
  {
   "cell_type": "code",
   "execution_count": null,
   "id": "bf6b7985",
   "metadata": {},
   "outputs": [],
   "source": []
  }
 ],
 "metadata": {
  "kernelspec": {
   "display_name": "Python 3 (ipykernel)",
   "language": "python",
   "name": "python3"
  },
  "language_info": {
   "codemirror_mode": {
    "name": "ipython",
    "version": 3
   },
   "file_extension": ".py",
   "mimetype": "text/x-python",
   "name": "python",
   "nbconvert_exporter": "python",
   "pygments_lexer": "ipython3",
   "version": "3.10.9"
  }
 },
 "nbformat": 4,
 "nbformat_minor": 5
}
